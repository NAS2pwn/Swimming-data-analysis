{
 "cells": [
  {
   "cell_type": "markdown",
   "metadata": {},
   "source": [
    "# Ingestion des données en base de données\n",
    "\n",
    "Pour résumer, l'objectif du projet est de s'entraîner en SQL et en Python pour se maintenir à jour en SQL (notamment les CTEs, les windows functions et les RANKS) et en Python (dataframes, SQLAlchemy, Pydantic, FastAPI, tests unitaires, Mock si pertinent, et si pertinent un peu d'intégration de modèles de machine learning).\n",
    "\n",
    "La première chose dans ce notebook ça va être de préparer les données et de les importer dans une DB PostgreSQL.\n"
   ]
  },
  {
   "cell_type": "markdown",
   "metadata": {},
   "source": [
    "## Cleaning data\n",
    "\n",
    "D'abord on regarde les données pour comprendre la structure."
   ]
  },
  {
   "cell_type": "code",
   "execution_count": null,
   "metadata": {},
   "outputs": [],
   "source": [
    "import pandas as pd\n",
    "import numpy as np\n",
    "\n",
    "dataset_path = \"Olympic_Swimming_Results_1912to2020\"\n",
    "\n",
    "# Lire le fichier CSV et afficher les colonnes\n",
    "df = pd.read_csv(dataset_path + \".csv\")\n",
    "print(df.columns)\n",
    "print(df.head())\n",
    "\n",
    "distinct_distances = df['Distance (in meters)'].unique()  # Assurez-vous que le nom de la colonne est correct\n",
    "print(\"Distances distinctes:\", distinct_distances)\n",
    "\n",
    "distinct_results = df['Results'].unique()\n",
    "print(\"Nombre de résultats distincts:\", len(distinct_results))\n",
    "\n",
    "# Sélectionner aléatoirement 100 résultats distincts (ou moins s'il y en a moins de 100)\n",
    "sample_size = min(100, len(distinct_results))\n",
    "random_sample = np.random.choice(distinct_results, size=sample_size, replace=False)\n",
    "\n",
    "print(f\"\\n{sample_size} résultats distincts aléatoires:\")\n",
    "for result in random_sample:\n",
    "    print(result)"
   ]
  },
  {
   "cell_type": "markdown",
   "metadata": {},
   "source": [
    "On renomme les colonnes pour les rendre plus faciles à utiliser."
   ]
  },
  {
   "cell_type": "code",
   "execution_count": null,
   "metadata": {},
   "outputs": [],
   "source": [
    "import pandas as pd\n",
    "import re\n",
    "\n",
    "# Renommer les colonnes\n",
    "df = df.rename(columns={\n",
    "    'Location': 'location',\n",
    "    'Year': 'year',\n",
    "    'Distance (in meters)': 'distance',\n",
    "    'Stroke': 'stroke',\n",
    "    'Relay?': 'is_relay',\n",
    "    'Gender': 'gender',\n",
    "    'Team': 'team',\n",
    "    'Athlete': 'athlete',\n",
    "    'Results': 'results',\n",
    "    'Rank': 'rank'\n",
    "})\n",
    "\n",
    "print(df.head())"
   ]
  },
  {
   "cell_type": "markdown",
   "metadata": {},
   "source": [
    "On convertit la colonne is_relay en booléen."
   ]
  },
  {
   "cell_type": "code",
   "execution_count": null,
   "metadata": {},
   "outputs": [],
   "source": [
    "# Convertir 'is_relay' en booléen\n",
    "df['is_relay'] = df['is_relay'].map(lambda x: True if x == 1 else False)\n",
    "\n",
    "print(df.head())"
   ]
  },
  {
   "cell_type": "markdown",
   "metadata": {},
   "source": [
    "On extrait la distance et le nombre de relais. On aura besoin de la distance en entier pour analyser correctement les données. Dans le CSV de base c'est un string au format [0-9]+m si c'est pas du relais (e.g 100m), et [0-9]+x[0-9]+m si c'est un relais (e.g 4x100m)."
   ]
  },
  {
   "cell_type": "code",
   "execution_count": null,
   "metadata": {},
   "outputs": [],
   "source": [
    "import re\n",
    "\n",
    "# Fonction pour extraire la distance et le nombre de relais\n",
    "def extract_distance_and_relay(distance_str):\n",
    "    if 'x' in distance_str:\n",
    "        nb_relay_str, distance_str = re.findall(r'\\d+', distance_str)\n",
    "        print(nb_relay_str, distance_str)\n",
    "        return int(distance_str), int(nb_relay_str)\n",
    "    else:\n",
    "        distance = int(re.findall(r'\\d+', distance_str)[0])\n",
    "        return distance, None\n",
    "\n",
    "# Appliquer la transformation à la colonne 'distance'\n",
    "df['distance'], df['nb_relay'] = zip(*df['distance'].apply(extract_distance_and_relay))\n",
    "\n",
    "print(df.head())\n",
    "\n",
    "df_relay_true = df[df['is_relay'] == True]\n",
    "print(df_relay_true.head())"
   ]
  },
  {
   "cell_type": "markdown",
   "metadata": {},
   "source": [
    "Ici, faut harmoniser les formats de temps. Dans le CSV de base, les temps sont dans des formats divers, parfois avec des minutes et des secondes, parfois avec des heures, parfois avec des décimales. On va tout convertir en secondes, sous forme de float avec une précision à la microseconde."
   ]
  },
  {
   "cell_type": "code",
   "execution_count": null,
   "metadata": {},
   "outputs": [],
   "source": [
    "import re\n",
    "import numpy as np\n",
    "\n",
    "def clean_time_str(time_str):\n",
    "    if isinstance(time_str, str):\n",
    "        # Extraire les chiffres et les séparateurs pertinents\n",
    "        cleaned = re.match(r'^(\\d+:?\\d*:?\\d*\\.?\\d*)', time_str)\n",
    "        if cleaned:\n",
    "            return cleaned.group(1)\n",
    "        elif not re.search(r'\\d', time_str):\n",
    "            return time_str  # Retourner la chaîne si elle ne contient aucun chiffre\n",
    "    return time_str\n",
    "\n",
    "def convert_to_seconds(time_str):\n",
    "    original_value = time_str\n",
    "    time_str = clean_time_str(time_str)\n",
    "    \n",
    "    if isinstance(time_str, float):\n",
    "        return time_str, None  # Déjà en secondes\n",
    "    elif isinstance(time_str, str):\n",
    "        if ':' in time_str:\n",
    "            # Format 00:04:37.510000\n",
    "            time_parts = time_str.split(':')\n",
    "            if len(time_parts) == 3:\n",
    "                hours, minutes, seconds = time_parts\n",
    "                total_seconds = int(hours) * 3600 + int(minutes) * 60 + float(seconds)\n",
    "            else:\n",
    "                minutes, seconds = time_parts\n",
    "                total_seconds = int(minutes) * 60 + float(seconds)\n",
    "        elif re.match(r'^\\d+(\\.\\d+)?$', time_str):\n",
    "            # Format 59.720\n",
    "            total_seconds = float(time_str)\n",
    "        else:\n",
    "            return np.nan, original_value  # Cas de disqualification ou format invalide\n",
    "    else:\n",
    "        return np.nan, str(original_value)  # Cas où le type n'est pas reconnu\n",
    "    \n",
    "    return round(total_seconds, 3), None  # Arrondir à 3 décimales pour la précision milliseconde\n",
    "\n",
    "# Appliquer la conversion à la colonne 'results'\n",
    "df['results'], df['quit_reason'] = zip(*df['results'].apply(convert_to_seconds))\n",
    "\n",
    "# Afficher les premières lignes pour vérification\n",
    "print(df.head())\n",
    "print(\"\\nColonnes du DataFrame:\", df.columns)\n",
    "\n",
    "# Afficher 50 valeurs aléatoires du DataFrame\n",
    "random_sample = df.sample(n=50, random_state=1)  # random_state pour la reproductibilité\n",
    "print(\"\\n50 valeurs aléatoires du DataFrame :\")\n",
    "print(random_sample)"
   ]
  }
 ],
 "metadata": {
  "kernelspec": {
   "display_name": "Python 3",
   "language": "python",
   "name": "python3"
  },
  "language_info": {
   "codemirror_mode": {
    "name": "ipython",
    "version": 3
   },
   "file_extension": ".py",
   "mimetype": "text/x-python",
   "name": "python",
   "nbconvert_exporter": "python",
   "pygments_lexer": "ipython3",
   "version": "3.8.10"
  }
 },
 "nbformat": 4,
 "nbformat_minor": 2
}
